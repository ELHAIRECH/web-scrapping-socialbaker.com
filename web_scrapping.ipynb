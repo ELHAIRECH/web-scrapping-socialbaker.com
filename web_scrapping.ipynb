{
  "nbformat": 4,
  "nbformat_minor": 0,
  "metadata": {
    "colab": {
      "name": "web scrapping.ipynb",
      "provenance": [],
      "collapsed_sections": [],
      "include_colab_link": true
    },
    "kernelspec": {
      "name": "python3",
      "display_name": "Python 3"
    }
  },
  "cells": [
    {
      "cell_type": "markdown",
      "metadata": {
        "id": "view-in-github",
        "colab_type": "text"
      },
      "source": [
        "<a href=\"https://colab.research.google.com/github/ELHAIRECH/web-scrapping-socialbaker.com/blob/main/web_scrapping.ipynb\" target=\"_parent\"><img src=\"https://colab.research.google.com/assets/colab-badge.svg\" alt=\"Open In Colab\"/></a>"
      ]
    },
    {
      "cell_type": "code",
      "metadata": {
        "id": "TVXS2OTHiw7z"
      },
      "source": [
        "from bs4 import BeautifulSoup as bs"
      ],
      "execution_count": null,
      "outputs": []
    },
    {
      "cell_type": "code",
      "metadata": {
        "id": "C1MrsusilPKh"
      },
      "source": [
        "import urllib.request "
      ],
      "execution_count": null,
      "outputs": []
    },
    {
      "cell_type": "code",
      "metadata": {
        "id": "2mjuu-y6kQqC"
      },
      "source": [
        "!mkdir '/content/results'"
      ],
      "execution_count": null,
      "outputs": []
    },
    {
      "cell_type": "code",
      "metadata": {
        "id": "dwFohl9MktLj"
      },
      "source": [
        "link = \"https://www.socialbakers.com/statistics/youtube/channels\"\r\n",
        "page = urllib.request.urlopen(link)"
      ],
      "execution_count": null,
      "outputs": []
    },
    {
      "cell_type": "code",
      "metadata": {
        "id": "DTlclA61lpe4"
      },
      "source": [
        "parsed_page = bs(page, 'html.parser')"
      ],
      "execution_count": null,
      "outputs": []
    },
    {
      "cell_type": "code",
      "metadata": {
        "id": "2-PSBgXQnGL7"
      },
      "source": [
        "print(parsed_page)"
      ],
      "execution_count": null,
      "outputs": []
    },
    {
      "cell_type": "code",
      "metadata": {
        "colab": {
          "base_uri": "https://localhost:8080/"
        },
        "id": "AYV6UUjHmNiR",
        "outputId": "15a1738c-ad8b-4364-c252-5dab354dc149"
      },
      "source": [
        "title = parsed_page.find(\"h1\",{\"class\":\"heading-nw heading-nw--2\"})\r\n",
        "print(title.get_text())\r\n"
      ],
      "execution_count": null,
      "outputs": [
        {
          "output_type": "stream",
          "text": [
            "All YouTube Channels\n"
          ],
          "name": "stdout"
        }
      ]
    },
    {
      "cell_type": "code",
      "metadata": {
        "id": "gs79HzIanqbg"
      },
      "source": [
        "table = parsed_page.find(\"table\", {'class':'brand-table-list'})\r\n"
      ],
      "execution_count": null,
      "outputs": []
    },
    {
      "cell_type": "markdown",
      "metadata": {
        "id": "Eo2DQr1uoz9q"
      },
      "source": [
        "<table>\r\n",
        "  <tr>\r\n",
        "    <th>channel</th>\r\n",
        "    <th>Subscribers</th>\r\n",
        "    <th>total views</th>\r\n",
        "  </tr>\r\n",
        "\r\n",
        "  <tr>\r\n",
        "    <td>T-Series</td>\r\n",
        "    <td>122 000 000</td>\r\n",
        "    <td>92 588 207 692</td>\r\n",
        "  </tr>\r\n",
        "</table>"
      ]
    },
    {
      "cell_type": "code",
      "metadata": {
        "id": "qsdaXjC2o3IS"
      },
      "source": [
        "rows = table.findAll(\"tr\")[:10]"
      ],
      "execution_count": null,
      "outputs": []
    },
    {
      "cell_type": "code",
      "metadata": {
        "colab": {
          "base_uri": "https://localhost:8080/"
        },
        "id": "wBxtDgWepT6v",
        "outputId": "b24052c1-b289-419c-922b-7ca574deeafb"
      },
      "source": [
        "len(rows)"
      ],
      "execution_count": null,
      "outputs": [
        {
          "output_type": "execute_result",
          "data": {
            "text/plain": [
              "10"
            ]
          },
          "metadata": {
            "tags": []
          },
          "execution_count": 61
        }
      ]
    },
    {
      "cell_type": "code",
      "metadata": {
        "id": "_yhg9D3F1qg7"
      },
      "source": [
        "import numpy as np\r\n"
      ],
      "execution_count": null,
      "outputs": []
    },
    {
      "cell_type": "code",
      "metadata": {
        "colab": {
          "base_uri": "https://localhost:8080/"
        },
        "id": "DXglsnv0ppSW",
        "outputId": "2f1f6c28-e181-4781-cc83-7e75124ae878"
      },
      "source": [
        "rankings_array = np.array([])\r\n",
        "channels_array = np.array([])\r\n",
        "subscribers_array = np.array([])\r\n",
        "views_array = np.array([])\r\n",
        "\r\n",
        "for row in rows:\r\n",
        "\r\n",
        "    items = row.findAll(\"div\", {\"class\": \"item\"})\r\n",
        "    \r\n",
        "    # retrieving data\r\n",
        "    ranking = items[0]\r\n",
        "    channel = items[1].h2\r\n",
        "    subscribers = items[2]\r\n",
        "    views = items[3]\r\n",
        "\r\n",
        "    # data cleaning\r\n",
        "    ranking = ranking.text.strip()\r\n",
        "    channel = channel.text.strip() #.lower()\r\n",
        "    subscribers = subscribers.text.lower().replace(\"subscribers\", \"\").strip() #.lower()\r\n",
        "    views = views.strong.get_text().strip() #.lower()\r\n",
        "\r\n",
        "    # collecting data \r\n",
        "    rankings_array = np.append(rankings_array, ranking)\r\n",
        "    channels_array = np.append(channels_array, channel)\r\n",
        "    subscribers_array = np.append(subscribers_array, subscribers)\r\n",
        "    views_array = np.append(views_array, views)\r\n",
        "\r\n",
        "    # show data \r\n",
        "    print(\"ranking : \" + ranking + \r\n",
        "          \", channel : \" + channel + \r\n",
        "          \" subs : \" + subscribers  + \r\n",
        "          \", views\" + views)\r\n",
        "  \r\n"
      ],
      "execution_count": null,
      "outputs": [
        {
          "output_type": "stream",
          "text": [
            "ranking : 1, channel : T-Series subs : 122 000 000, views92 588 207 692\n",
            "ranking : 2, channel : Cocomelon - Nursery Rhymes subs : 67 900 000, views46 170 466 059\n",
            "ranking : 3, channel : SET India subs : 61 300 000, views44 998 866 641\n",
            "ranking : 4, channel : WWE subs : 52 200 000, views37 973 721 454\n",
            "ranking : 5, channel : Zee TV subs : 38 900 000, views36 904 914 683\n",
            "ranking : 6, channel : Ryan's World subs : 23 000 000, views34 706 404 783\n",
            "ranking : 7, channel : netd müzik subs : 15 800 000, views32 916 989 024\n",
            "ranking : 8, channel : ABS-CBN Entertainment subs : 23 700 000, views31 941 849 633\n",
            "ranking : 9, channel : Movieclips subs : 31 800 000, views30 006 566 522\n",
            "ranking : 10, channel : Canal KondZilla subs : 54 000 000, views27 683 764 917\n"
          ],
          "name": "stdout"
        }
      ]
    },
    {
      "cell_type": "code",
      "metadata": {
        "id": "FdY_WX2xxyL_"
      },
      "source": [
        "import pandas as pd"
      ],
      "execution_count": null,
      "outputs": []
    },
    {
      "cell_type": "code",
      "metadata": {
        "id": "L05TxmVtzxMP"
      },
      "source": [
        "results = {\r\n",
        "    \"ranking\": rankings_array, \r\n",
        "    \"channel\": channels_array, \r\n",
        "    \"subs\": subscribers_array, \r\n",
        "    \"views\": views_array\r\n",
        "}"
      ],
      "execution_count": null,
      "outputs": []
    },
    {
      "cell_type": "code",
      "metadata": {
        "colab": {
          "base_uri": "https://localhost:8080/"
        },
        "id": "ZTjGCvxT0M5C",
        "outputId": "7ba8f77b-6b88-4bd9-c8f9-28c66ddeb5f9"
      },
      "source": [
        "results[\"ranking\"]"
      ],
      "execution_count": null,
      "outputs": [
        {
          "output_type": "execute_result",
          "data": {
            "text/plain": [
              "array(['1', '2', '3', '4', '5', '6', '7', '8', '9', '10'], dtype='<U32')"
            ]
          },
          "metadata": {
            "tags": []
          },
          "execution_count": 124
        }
      ]
    },
    {
      "cell_type": "code",
      "metadata": {
        "id": "ZeaHxzxozE0_"
      },
      "source": [
        "csv_file = \"/content/results/youtubers2.csv\""
      ],
      "execution_count": null,
      "outputs": []
    },
    {
      "cell_type": "code",
      "metadata": {
        "id": "IA0qWcSAzpva"
      },
      "source": [
        "data = pd.DataFrame(results)"
      ],
      "execution_count": null,
      "outputs": []
    },
    {
      "cell_type": "code",
      "metadata": {
        "id": "v91bFcrS2Z03"
      },
      "source": [
        "data.to_csv(csv_file) "
      ],
      "execution_count": null,
      "outputs": []
    }
  ]
}